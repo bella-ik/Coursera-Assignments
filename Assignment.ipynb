{
 "cells": [
  {
   "cell_type": "markdown",
   "id": "b9910433",
   "metadata": {},
   "source": [
    "# My Jupyter Notebook on IBM Watson Studio"
   ]
  },
  {
   "cell_type": "markdown",
   "id": "d309564d",
   "metadata": {},
   "source": [
    "**Ingyin Khant** <br> Student"
   ]
  },
  {
   "cell_type": "markdown",
   "id": "eddaf4fb",
   "metadata": {},
   "source": [
    "*I am interested in data science because I love statistics and working with data*"
   ]
  },
  {
   "cell_type": "markdown",
   "id": "03e80ec1",
   "metadata": {},
   "source": [
    "### The code in cell 5 is giving the numerator when 9 is divided by 2."
   ]
  },
  {
   "cell_type": "code",
   "execution_count": 2,
   "id": "40973ef0",
   "metadata": {},
   "outputs": [
    {
     "data": {
      "text/plain": [
       "4"
      ]
     },
     "execution_count": 2,
     "metadata": {},
     "output_type": "execute_result"
    }
   ],
   "source": [
    "9//2"
   ]
  },
  {
   "cell_type": "markdown",
   "id": "734ccc52",
   "metadata": {},
   "source": [
    "* apple\n",
    "* orange\n",
    "\n",
    "| Item       | Expiry           | \n",
    "| :------------- | :------------- | \n",
    "| apple   | Today | \n",
    "| orange    | Tomorrow      |    \n",
    "\n",
    "You can find the Markdown Cheatsheet [here.](https://github.com/adam-p/markdown-here/wiki/Markdown-Cheatsheet)"
   ]
  }
 ],
 "metadata": {
  "kernelspec": {
   "display_name": "Python 3 (ipykernel)",
   "language": "python",
   "name": "python3"
  },
  "language_info": {
   "codemirror_mode": {
    "name": "ipython",
    "version": 3
   },
   "file_extension": ".py",
   "mimetype": "text/x-python",
   "name": "python",
   "nbconvert_exporter": "python",
   "pygments_lexer": "ipython3",
   "version": "3.9.13"
  }
 },
 "nbformat": 4,
 "nbformat_minor": 5
}
